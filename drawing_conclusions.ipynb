{
 "cells": [
  {
   "cell_type": "markdown",
   "metadata": {
    "collapsed": true
   },
   "source": [
    "# Drawing Conclusions\n",
    "Use the space below to address questions on datasets `clean_08.csv` and `clean_18.csv`. You should've created these data files in the previous section: *Fixing Data Types Pt 3*."
   ]
  },
  {
   "cell_type": "code",
   "execution_count": 1,
   "metadata": {},
   "outputs": [],
   "source": [
    "# load datasets\n",
    "import pandas as pd\n",
    "% matplotlib inline\n",
    "import matplotlib.pyplot as plt\n",
    "df_08 = pd.read_csv('clean_08.csv')\n",
    "df_18 = pd.read_csv('clean_18.csv')"
   ]
  },
  {
   "cell_type": "code",
   "execution_count": 2,
   "metadata": {},
   "outputs": [
    {
     "data": {
      "text/html": [
       "<div>\n",
       "<style>\n",
       "    .dataframe thead tr:only-child th {\n",
       "        text-align: right;\n",
       "    }\n",
       "\n",
       "    .dataframe thead th {\n",
       "        text-align: left;\n",
       "    }\n",
       "\n",
       "    .dataframe tbody tr th {\n",
       "        vertical-align: top;\n",
       "    }\n",
       "</style>\n",
       "<table border=\"1\" class=\"dataframe\">\n",
       "  <thead>\n",
       "    <tr style=\"text-align: right;\">\n",
       "      <th></th>\n",
       "      <th>model</th>\n",
       "      <th>displ</th>\n",
       "      <th>cyl</th>\n",
       "      <th>trans</th>\n",
       "      <th>drive</th>\n",
       "      <th>fuel</th>\n",
       "      <th>veh_class</th>\n",
       "      <th>air_pollution_score</th>\n",
       "      <th>city_mpg</th>\n",
       "      <th>hwy_mpg</th>\n",
       "      <th>cmb_mpg</th>\n",
       "      <th>greenhouse_gas_score</th>\n",
       "      <th>smartway</th>\n",
       "    </tr>\n",
       "  </thead>\n",
       "  <tbody>\n",
       "    <tr>\n",
       "      <th>0</th>\n",
       "      <td>ACURA MDX</td>\n",
       "      <td>3.7</td>\n",
       "      <td>6</td>\n",
       "      <td>Auto-S5</td>\n",
       "      <td>4WD</td>\n",
       "      <td>Gasoline</td>\n",
       "      <td>SUV</td>\n",
       "      <td>7.0</td>\n",
       "      <td>15.0</td>\n",
       "      <td>20.0</td>\n",
       "      <td>17.0</td>\n",
       "      <td>4</td>\n",
       "      <td>no</td>\n",
       "    </tr>\n",
       "  </tbody>\n",
       "</table>\n",
       "</div>"
      ],
      "text/plain": [
       "       model  displ  cyl    trans drive      fuel veh_class  \\\n",
       "0  ACURA MDX    3.7    6  Auto-S5   4WD  Gasoline       SUV   \n",
       "\n",
       "   air_pollution_score  city_mpg  hwy_mpg  cmb_mpg  greenhouse_gas_score  \\\n",
       "0                  7.0      15.0     20.0     17.0                     4   \n",
       "\n",
       "  smartway  \n",
       "0       no  "
      ]
     },
     "execution_count": 2,
     "metadata": {},
     "output_type": "execute_result"
    }
   ],
   "source": [
    "df_08.head(1)"
   ]
  },
  {
   "cell_type": "code",
   "execution_count": 3,
   "metadata": {},
   "outputs": [
    {
     "data": {
      "text/html": [
       "<div>\n",
       "<style>\n",
       "    .dataframe thead tr:only-child th {\n",
       "        text-align: right;\n",
       "    }\n",
       "\n",
       "    .dataframe thead th {\n",
       "        text-align: left;\n",
       "    }\n",
       "\n",
       "    .dataframe tbody tr th {\n",
       "        vertical-align: top;\n",
       "    }\n",
       "</style>\n",
       "<table border=\"1\" class=\"dataframe\">\n",
       "  <thead>\n",
       "    <tr style=\"text-align: right;\">\n",
       "      <th></th>\n",
       "      <th>model</th>\n",
       "      <th>displ</th>\n",
       "      <th>cyl</th>\n",
       "      <th>trans</th>\n",
       "      <th>drive</th>\n",
       "      <th>fuel</th>\n",
       "      <th>veh_class</th>\n",
       "      <th>air_pollution_score</th>\n",
       "      <th>city_mpg</th>\n",
       "      <th>hwy_mpg</th>\n",
       "      <th>cmb_mpg</th>\n",
       "      <th>greenhouse_gas_score</th>\n",
       "      <th>smartway</th>\n",
       "    </tr>\n",
       "  </thead>\n",
       "  <tbody>\n",
       "    <tr>\n",
       "      <th>0</th>\n",
       "      <td>ACURA RDX</td>\n",
       "      <td>3.5</td>\n",
       "      <td>6</td>\n",
       "      <td>SemiAuto-6</td>\n",
       "      <td>2WD</td>\n",
       "      <td>Gasoline</td>\n",
       "      <td>small SUV</td>\n",
       "      <td>3.0</td>\n",
       "      <td>20.0</td>\n",
       "      <td>28.0</td>\n",
       "      <td>23.0</td>\n",
       "      <td>5</td>\n",
       "      <td>No</td>\n",
       "    </tr>\n",
       "  </tbody>\n",
       "</table>\n",
       "</div>"
      ],
      "text/plain": [
       "       model  displ  cyl       trans drive      fuel  veh_class  \\\n",
       "0  ACURA RDX    3.5    6  SemiAuto-6   2WD  Gasoline  small SUV   \n",
       "\n",
       "   air_pollution_score  city_mpg  hwy_mpg  cmb_mpg  greenhouse_gas_score  \\\n",
       "0                  3.0      20.0     28.0     23.0                     5   \n",
       "\n",
       "  smartway  \n",
       "0       No  "
      ]
     },
     "execution_count": 3,
     "metadata": {},
     "output_type": "execute_result"
    }
   ],
   "source": [
    "df_18.head(1)"
   ]
  },
  {
   "cell_type": "markdown",
   "metadata": {},
   "source": [
    "### Q1: Are more unique models using alternative sources of fuel? By how much?"
   ]
  },
  {
   "cell_type": "code",
   "execution_count": 5,
   "metadata": {},
   "outputs": [],
   "source": [
    "#df_08['model'].value_counts()"
   ]
  },
  {
   "cell_type": "code",
   "execution_count": 4,
   "metadata": {},
   "outputs": [
    {
     "data": {
      "text/plain": [
       "Gasoline    982\n",
       "ethanol       3\n",
       "gas           3\n",
       "CNG           1\n",
       "Name: fuel, dtype: int64"
      ]
     },
     "execution_count": 4,
     "metadata": {},
     "output_type": "execute_result"
    }
   ],
   "source": [
    "df_08['fuel'].value_counts()"
   ]
  },
  {
   "cell_type": "code",
   "execution_count": 6,
   "metadata": {},
   "outputs": [
    {
     "data": {
      "text/plain": [
       "<matplotlib.axes._subplots.AxesSubplot at 0x7f56a3fea828>"
      ]
     },
     "execution_count": 6,
     "metadata": {},
     "output_type": "execute_result"
    },
    {
     "data": {
      "image/png": "[encoded data removed]",
      "text/plain": [
       "<matplotlib.figure.Figure at 0x7f56cc221470>"
      ]
     },
     "metadata": {
      "needs_background": "light"
     },
     "output_type": "display_data"
    }
   ],
   "source": [
    "counts = df_08.groupby('fuel')['model'].count()\n",
    "counts.plot(kind='bar')"
   ]
  },
  {
   "cell_type": "code",
   "execution_count": null,
   "metadata": {},
   "outputs": [],
   "source": []
  },
  {
   "cell_type": "markdown",
   "metadata": {},
   "source": [
    "### Q2: How much have vehicle classes improved in fuel economy?  "
   ]
  },
  {
   "cell_type": "code",
   "execution_count": 2,
   "metadata": {},
   "outputs": [
    {
     "data": {
      "text/plain": [
       "model\n",
       "ACURA MDX                            17.000000\n",
       "ACURA RDX                            19.000000\n",
       "ACURA RL                             19.000000\n",
       "ACURA TL                             20.666667\n",
       "ACURA TSX                            22.500000\n",
       "ASTON MARTIN DB9                     12.500000\n",
       "ASTON MARTIN DB9 Volante             12.500000\n",
       "ASTON MARTIN V8 Vantage              15.000000\n",
       "AUDI A3                              23.333333\n",
       "AUDI A4                              21.000000\n",
       "AUDI A4 Avant                        19.500000\n",
       "AUDI A4 Cabriolet                    20.000000\n",
       "AUDI A6                              19.666667\n",
       "AUDI A6 Avant                        20.000000\n",
       "AUDI A8                              18.000000\n",
       "AUDI A8 L                            16.500000\n",
       "AUDI Q7                              15.000000\n",
       "AUDI R8                              15.000000\n",
       "AUDI RS4                             15.000000\n",
       "AUDI RS4 Cabriolet                   14.000000\n",
       "AUDI S4                              15.500000\n",
       "AUDI S4 Avant                        15.500000\n",
       "AUDI S4 Cabriolet                    15.500000\n",
       "AUDI S5                              16.000000\n",
       "AUDI S6                              16.000000\n",
       "AUDI S8                              15.000000\n",
       "AUDI TT Coupe                        21.666667\n",
       "AUDI TT Roadster                     21.333333\n",
       "BENTLEY Arnage                       11.000000\n",
       "BENTLEY Azure                        11.000000\n",
       "                                       ...    \n",
       "TOYOTA Scion TC                      23.500000\n",
       "TOYOTA Scion XB                      24.000000\n",
       "TOYOTA Scion XD                      28.500000\n",
       "TOYOTA Sequoia                       14.750000\n",
       "TOYOTA Sienna                        18.500000\n",
       "TOYOTA Solara                        23.666667\n",
       "TOYOTA Solara Convertible            21.000000\n",
       "TOYOTA Tacoma                        18.714286\n",
       "TOYOTA Tundra                        15.400000\n",
       "TOYOTA Yaris                         31.500000\n",
       "VOLKSWAGEN Eos                       23.333333\n",
       "VOLKSWAGEN GTI                       24.500000\n",
       "VOLKSWAGEN Jetta                     24.166667\n",
       "VOLKSWAGEN Jetta Wagon               24.000000\n",
       "VOLKSWAGEN New Beetle                23.000000\n",
       "VOLKSWAGEN New Beetle Convertible    23.000000\n",
       "VOLKSWAGEN Passat                    21.250000\n",
       "VOLKSWAGEN Passat Wagon              22.000000\n",
       "VOLKSWAGEN R32                       20.000000\n",
       "VOLKSWAGEN Rabbit                    24.000000\n",
       "VOLKSWAGEN Touareg                   15.000000\n",
       "VOLVO C30                            22.750000\n",
       "VOLVO C70 Convertible                21.000000\n",
       "VOLVO S40                            22.142857\n",
       "VOLVO S60                            21.333333\n",
       "VOLVO S80                            18.500000\n",
       "VOLVO V50                            22.142857\n",
       "VOLVO V70                            19.000000\n",
       "VOLVO XC 70                          17.000000\n",
       "VOLVO XC 90                          15.666667\n",
       "Name: cmb_mpg, Length: 375, dtype: float64"
      ]
     },
     "execution_count": 2,
     "metadata": {},
     "output_type": "execute_result"
    }
   ],
   "source": [
    "veh_08 = df_08.groupby('model')['cmb_mpg'].mean()\n",
    "veh_08"
   ]
  },
  {
   "cell_type": "code",
   "execution_count": 3,
   "metadata": {},
   "outputs": [
    {
     "data": {
      "text/plain": [
       "model\n",
       "ACURA RDX                             22.500000\n",
       "ACURA TLX                             25.000000\n",
       "ACURA TLX AWD A-SPEC                  23.000000\n",
       "ACURA TLX FWD A-SPEC                  23.000000\n",
       "ALFA ROMEO 4C                         28.000000\n",
       "ALFA ROMEO Giulia                     20.000000\n",
       "AUDI A3                               28.000000\n",
       "AUDI A3 Cabriolet                     26.500000\n",
       "AUDI A4                               27.000000\n",
       "AUDI A4 Ultra                         31.000000\n",
       "AUDI A5                               27.000000\n",
       "AUDI A5 Cabriolet                     27.000000\n",
       "AUDI A5 Sportback quattro             27.000000\n",
       "AUDI A6                               25.666667\n",
       "AUDI A7                               23.000000\n",
       "AUDI A8 L                             22.000000\n",
       "AUDI Q3                               23.000000\n",
       "AUDI Q5                               25.000000\n",
       "AUDI Q7                               21.000000\n",
       "AUDI RS3                              22.000000\n",
       "AUDI S3                               25.000000\n",
       "AUDI S4                               24.000000\n",
       "AUDI S5                               24.000000\n",
       "AUDI S5 Cabriolet                     23.000000\n",
       "AUDI S5 Sportback                     24.000000\n",
       "AUDI SQ5                              21.000000\n",
       "AUDI TT Coupe                         26.000000\n",
       "AUDI TT RS                            22.000000\n",
       "AUDI TT Roadster                      26.000000\n",
       "AUDI TTS Coupe                        25.000000\n",
       "                                        ...    \n",
       "TOYOTA RAV4 LE/XLE                    26.000000\n",
       "TOYOTA RAV4 Limited                   24.000000\n",
       "TOYOTA Sequoia                        14.500000\n",
       "TOYOTA Sequoia FFV                    12.000000\n",
       "TOYOTA Tundra                         15.250000\n",
       "TOYOTA Tundra FFV                     12.500000\n",
       "TOYOTA Yaris                          32.500000\n",
       "VOLKSWAGEN Beetle                     29.000000\n",
       "VOLKSWAGEN Beetle Convertible         29.000000\n",
       "VOLKSWAGEN Beetle Dune                29.000000\n",
       "VOLKSWAGEN Beetle Dune Convertible    29.000000\n",
       "VOLKSWAGEN Golf R                     24.500000\n",
       "VOLKSWAGEN Jetta                      30.000000\n",
       "VOLKSWAGEN Passat                     29.000000\n",
       "VOLKSWAGEN Tiguan                     24.000000\n",
       "VOLKSWAGEN Tiguan 4Motion             23.000000\n",
       "VOLVO Atlas                           20.000000\n",
       "VOLVO Atlas 4Motion                   19.000000\n",
       "VOLVO S60                             27.000000\n",
       "VOLVO S60 CC                          25.000000\n",
       "VOLVO S60 Inscription                 27.500000\n",
       "VOLVO S60 Polestar                    22.000000\n",
       "VOLVO S90                             32.714286\n",
       "VOLVO V60                             27.000000\n",
       "VOLVO V60 CC                          25.000000\n",
       "VOLVO V60 Polestar                    22.000000\n",
       "VOLVO V90                             26.000000\n",
       "VOLVO V90 CC                          25.500000\n",
       "VOLVO XC 60                           33.000000\n",
       "VOLVO XC 90                           32.200000\n",
       "Name: cmb_mpg, Length: 357, dtype: float64"
      ]
     },
     "execution_count": 3,
     "metadata": {},
     "output_type": "execute_result"
    }
   ],
   "source": [
    "veh_18 = df_18.groupby('model')['cmb_mpg'].mean()\n",
    "veh_18"
   ]
  },
  {
   "cell_type": "code",
   "execution_count": 4,
   "metadata": {},
   "outputs": [
    {
     "data": {
      "text/plain": [
       "model\n",
       "ACURA MDX                                  NaN\n",
       "ACURA RDX                             3.500000\n",
       "ACURA RL                                   NaN\n",
       "ACURA TL                                   NaN\n",
       "ACURA TLX                                  NaN\n",
       "ACURA TLX AWD A-SPEC                       NaN\n",
       "ACURA TLX FWD A-SPEC                       NaN\n",
       "ACURA TSX                                  NaN\n",
       "ALFA ROMEO 4C                              NaN\n",
       "ALFA ROMEO Giulia                          NaN\n",
       "ASTON MARTIN DB9                           NaN\n",
       "ASTON MARTIN DB9 Volante                   NaN\n",
       "ASTON MARTIN V8 Vantage                    NaN\n",
       "AUDI A3                               4.666667\n",
       "AUDI A3 Cabriolet                          NaN\n",
       "AUDI A4                               6.000000\n",
       "AUDI A4 Avant                              NaN\n",
       "AUDI A4 Cabriolet                          NaN\n",
       "AUDI A4 Ultra                              NaN\n",
       "AUDI A5                                    NaN\n",
       "AUDI A5 Cabriolet                          NaN\n",
       "AUDI A5 Sportback quattro                  NaN\n",
       "AUDI A6                               6.000000\n",
       "AUDI A6 Avant                              NaN\n",
       "AUDI A7                                    NaN\n",
       "AUDI A8                                    NaN\n",
       "AUDI A8 L                             5.500000\n",
       "AUDI Q3                                    NaN\n",
       "AUDI Q5                                    NaN\n",
       "AUDI Q7                               6.000000\n",
       "                                       ...    \n",
       "VOLKSWAGEN New Beetle                      NaN\n",
       "VOLKSWAGEN New Beetle Convertible          NaN\n",
       "VOLKSWAGEN Passat                     7.750000\n",
       "VOLKSWAGEN Passat Wagon                    NaN\n",
       "VOLKSWAGEN R32                             NaN\n",
       "VOLKSWAGEN Rabbit                          NaN\n",
       "VOLKSWAGEN Tiguan                          NaN\n",
       "VOLKSWAGEN Tiguan 4Motion                  NaN\n",
       "VOLKSWAGEN Touareg                         NaN\n",
       "VOLVO Atlas                                NaN\n",
       "VOLVO Atlas 4Motion                        NaN\n",
       "VOLVO C30                                  NaN\n",
       "VOLVO C70 Convertible                      NaN\n",
       "VOLVO S40                                  NaN\n",
       "VOLVO S60                             5.666667\n",
       "VOLVO S60 CC                               NaN\n",
       "VOLVO S60 Inscription                      NaN\n",
       "VOLVO S60 Polestar                         NaN\n",
       "VOLVO S80                                  NaN\n",
       "VOLVO S90                                  NaN\n",
       "VOLVO V50                                  NaN\n",
       "VOLVO V60                                  NaN\n",
       "VOLVO V60 CC                               NaN\n",
       "VOLVO V60 Polestar                         NaN\n",
       "VOLVO V70                                  NaN\n",
       "VOLVO V90                                  NaN\n",
       "VOLVO V90 CC                               NaN\n",
       "VOLVO XC 60                                NaN\n",
       "VOLVO XC 70                                NaN\n",
       "VOLVO XC 90                          16.533333\n",
       "Name: cmb_mpg, Length: 660, dtype: float64"
      ]
     },
     "execution_count": 4,
     "metadata": {},
     "output_type": "execute_result"
    }
   ],
   "source": [
    "diff = veh_18 - veh_08\n",
    "diff"
   ]
  },
  {
   "cell_type": "code",
   "execution_count": 7,
   "metadata": {},
   "outputs": [
    {
     "data": {
      "image/png": "[encoded data removed]",
      "text/plain": [
       "<matplotlib.figure.Figure at 0x7fd5e2872240>"
      ]
     },
     "metadata": {
      "needs_background": "light"
     },
     "output_type": "display_data"
    }
   ],
   "source": [
    "diff.dropna(inplace=True)\n",
    "plt.subplots(figsize=(8, 5))\n",
    "plt.bar(diff.index, diff)\n",
    "plt.title('Improvements in Fuel Economy from 2008 to 2018 by Vehicle Class')\n",
    "plt.xlabel('Vehicle Class')\n",
    "plt.ylabel('Increase in Average Combined MPG');"
   ]
  },
  {
   "cell_type": "markdown",
   "metadata": {},
   "source": [
    "### Q3: What are the characteristics of SmartWay vehicles? Have they changed over time?"
   ]
  },
  {
   "cell_type": "code",
   "execution_count": 6,
   "metadata": {},
   "outputs": [
    {
     "data": {
      "text/plain": [
       "count     989\n",
       "unique      2\n",
       "top        no\n",
       "freq      609\n",
       "Name: smartway, dtype: object"
      ]
     },
     "execution_count": 6,
     "metadata": {},
     "output_type": "execute_result"
    }
   ],
   "source": [
    "df_08['smartway'].describe()"
   ]
  },
  {
   "cell_type": "code",
   "execution_count": 7,
   "metadata": {},
   "outputs": [
    {
     "data": {
      "text/plain": [
       "count     832\n",
       "unique      3\n",
       "top        No\n",
       "freq      724\n",
       "Name: smartway, dtype: object"
      ]
     },
     "execution_count": 7,
     "metadata": {},
     "output_type": "execute_result"
    }
   ],
   "source": [
    "df_18['smartway'].describe()"
   ]
  },
  {
   "cell_type": "code",
   "execution_count": 10,
   "metadata": {},
   "outputs": [
    {
     "data": {
      "image/png": "[encoded data removed]",
      "text/plain": [
       "<matplotlib.figure.Figure at 0x7f15cdf8cba8>"
      ]
     },
     "metadata": {
      "needs_background": "light"
     },
     "output_type": "display_data"
    }
   ],
   "source": [
    "df_08['smartway'].hist();"
   ]
  },
  {
   "cell_type": "markdown",
   "metadata": {},
   "source": [
    "### Q4: What features are associated with better fuel economy?"
   ]
  },
  {
   "cell_type": "code",
   "execution_count": 7,
   "metadata": {},
   "outputs": [
    {
     "data": {
      "text/plain": [
       "20.0"
      ]
     },
     "execution_count": 7,
     "metadata": {},
     "output_type": "execute_result"
    }
   ],
   "source": [
    "df_08['cmb_mpg'].median()"
   ]
  },
  {
   "cell_type": "code",
   "execution_count": 8,
   "metadata": {},
   "outputs": [],
   "source": [
    "df_1 = df_08.query('cmb_mpg >= 20')"
   ]
  },
  {
   "cell_type": "code",
   "execution_count": 9,
   "metadata": {},
   "outputs": [
    {
     "data": {
      "text/html": [
       "<div>\n",
       "<style>\n",
       "    .dataframe thead tr:only-child th {\n",
       "        text-align: right;\n",
       "    }\n",
       "\n",
       "    .dataframe thead th {\n",
       "        text-align: left;\n",
       "    }\n",
       "\n",
       "    .dataframe tbody tr th {\n",
       "        vertical-align: top;\n",
       "    }\n",
       "</style>\n",
       "<table border=\"1\" class=\"dataframe\">\n",
       "  <thead>\n",
       "    <tr style=\"text-align: right;\">\n",
       "      <th></th>\n",
       "      <th>displ</th>\n",
       "      <th>cyl</th>\n",
       "      <th>air_pollution_score</th>\n",
       "      <th>city_mpg</th>\n",
       "      <th>hwy_mpg</th>\n",
       "      <th>cmb_mpg</th>\n",
       "      <th>greenhouse_gas_score</th>\n",
       "    </tr>\n",
       "  </thead>\n",
       "  <tbody>\n",
       "    <tr>\n",
       "      <th>count</th>\n",
       "      <td>521.000000</td>\n",
       "      <td>521.000000</td>\n",
       "      <td>521.000000</td>\n",
       "      <td>521.000000</td>\n",
       "      <td>521.000000</td>\n",
       "      <td>521.000000</td>\n",
       "      <td>521.000000</td>\n",
       "    </tr>\n",
       "    <tr>\n",
       "      <th>mean</th>\n",
       "      <td>2.669098</td>\n",
       "      <td>4.894434</td>\n",
       "      <td>6.986564</td>\n",
       "      <td>20.309021</td>\n",
       "      <td>27.593090</td>\n",
       "      <td>22.984645</td>\n",
       "      <td>6.637236</td>\n",
       "    </tr>\n",
       "    <tr>\n",
       "      <th>std</th>\n",
       "      <td>0.664588</td>\n",
       "      <td>1.035146</td>\n",
       "      <td>1.172117</td>\n",
       "      <td>3.195323</td>\n",
       "      <td>3.049507</td>\n",
       "      <td>2.923340</td>\n",
       "      <td>0.804360</td>\n",
       "    </tr>\n",
       "    <tr>\n",
       "      <th>min</th>\n",
       "      <td>1.300000</td>\n",
       "      <td>4.000000</td>\n",
       "      <td>4.000000</td>\n",
       "      <td>17.000000</td>\n",
       "      <td>20.000000</td>\n",
       "      <td>20.000000</td>\n",
       "      <td>6.000000</td>\n",
       "    </tr>\n",
       "    <tr>\n",
       "      <th>25%</th>\n",
       "      <td>2.300000</td>\n",
       "      <td>4.000000</td>\n",
       "      <td>6.000000</td>\n",
       "      <td>18.000000</td>\n",
       "      <td>25.000000</td>\n",
       "      <td>21.000000</td>\n",
       "      <td>6.000000</td>\n",
       "    </tr>\n",
       "    <tr>\n",
       "      <th>50%</th>\n",
       "      <td>2.500000</td>\n",
       "      <td>4.000000</td>\n",
       "      <td>7.000000</td>\n",
       "      <td>20.000000</td>\n",
       "      <td>27.000000</td>\n",
       "      <td>22.000000</td>\n",
       "      <td>6.000000</td>\n",
       "    </tr>\n",
       "    <tr>\n",
       "      <th>75%</th>\n",
       "      <td>3.000000</td>\n",
       "      <td>6.000000</td>\n",
       "      <td>7.000000</td>\n",
       "      <td>21.000000</td>\n",
       "      <td>29.000000</td>\n",
       "      <td>24.000000</td>\n",
       "      <td>7.000000</td>\n",
       "    </tr>\n",
       "    <tr>\n",
       "      <th>max</th>\n",
       "      <td>6.000000</td>\n",
       "      <td>8.000000</td>\n",
       "      <td>9.500000</td>\n",
       "      <td>48.000000</td>\n",
       "      <td>45.000000</td>\n",
       "      <td>46.000000</td>\n",
       "      <td>10.000000</td>\n",
       "    </tr>\n",
       "  </tbody>\n",
       "</table>\n",
       "</div>"
      ],
      "text/plain": [
       "            displ         cyl  air_pollution_score    city_mpg     hwy_mpg  \\\n",
       "count  521.000000  521.000000           521.000000  521.000000  521.000000   \n",
       "mean     2.669098    4.894434             6.986564   20.309021   27.593090   \n",
       "std      0.664588    1.035146             1.172117    3.195323    3.049507   \n",
       "min      1.300000    4.000000             4.000000   17.000000   20.000000   \n",
       "25%      2.300000    4.000000             6.000000   18.000000   25.000000   \n",
       "50%      2.500000    4.000000             7.000000   20.000000   27.000000   \n",
       "75%      3.000000    6.000000             7.000000   21.000000   29.000000   \n",
       "max      6.000000    8.000000             9.500000   48.000000   45.000000   \n",
       "\n",
       "          cmb_mpg  greenhouse_gas_score  \n",
       "count  521.000000            521.000000  \n",
       "mean    22.984645              6.637236  \n",
       "std      2.923340              0.804360  \n",
       "min     20.000000              6.000000  \n",
       "25%     21.000000              6.000000  \n",
       "50%     22.000000              6.000000  \n",
       "75%     24.000000              7.000000  \n",
       "max     46.000000             10.000000  "
      ]
     },
     "execution_count": 9,
     "metadata": {},
     "output_type": "execute_result"
    }
   ],
   "source": [
    "df_1.describe()"
   ]
  },
  {
   "cell_type": "code",
   "execution_count": null,
   "metadata": {},
   "outputs": [],
   "source": []
  }
 ],
 "metadata": {
  "kernelspec": {
   "display_name": "Python 3",
   "language": "python",
   "name": "python3"
  },
  "language_info": {
   "codemirror_mode": {
    "name": "ipython",
    "version": 3
   },
   "file_extension": ".py",
   "mimetype": "text/x-python",
   "name": "python",
   "nbconvert_exporter": "python",
   "pygments_lexer": "ipython3",
   "version": "3.6.3"
  }
 },
 "nbformat": 4,
 "nbformat_minor": 2
}
